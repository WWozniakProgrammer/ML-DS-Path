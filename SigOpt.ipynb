{
  "cells": [
    {
      "cell_type": "markdown",
      "metadata": {
        "colab_type": "text",
        "id": "view-in-github"
      },
      "source": [
        "<a href=\"https://colab.research.google.com/github/WWozniakProgrammer/ML-DS-Path/blob/main/SigOpt.ipynb\" target=\"_parent\"><img src=\"https://colab.research.google.com/assets/colab-badge.svg\" alt=\"Open In Colab\"/></a>"
      ]
    },
    {
      "cell_type": "markdown",
      "metadata": {
        "id": "Mj_HBBFQzhI2"
      },
      "source": [
        "SignOpt umożliwia dobranie odpowiedznich hiperparametrów w sposób zautomatyzowany, słóży równiż do monitorwoania hiperparametórw modelu, jeszcze do wizualizacji oraz pracę w grupie (zespole)\n"
      ]
    },
    {
      "cell_type": "code",
      "execution_count": null,
      "metadata": {
        "id": "fPEvIwC3vkbo"
      },
      "outputs": [],
      "source": [
        "class KerasNNModel:\n",
        "    def __init(self, hidden_laters\n"
      ]
    }
  ],
  "metadata": {
    "colab": {
      "authorship_tag": "ABX9TyO+H/0Vxi07u7PZjelVXwgx",
      "include_colab_link": true,
      "provenance": []
    },
    "kernelspec": {
      "display_name": "Python 3",
      "name": "python3"
    },
    "language_info": {
      "name": "python"
    }
  },
  "nbformat": 4,
  "nbformat_minor": 0
}
