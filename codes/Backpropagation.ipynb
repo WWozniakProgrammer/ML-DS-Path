{
 "cells": [
  {
   "cell_type": "markdown",
   "metadata": {},
   "source": [
    "## Algorytm wstecznej propagacji: \n",
    "### Jest to coś dzięki czemu możemy wykorzystać metodę *spadku gradientu* w przypadku wielopoziomowych  sieci neuronowych &#128526;\n",
    "*(W tej notatce będę użwyać skrótowego myślenia, weźmy więc hipotetyczną sieć neuronową o 3 warstwach, oraz ilości neuronów w warstwach: 3->2->1)*"
   ]
  },
  {
   "cell_type": "markdown",
   "metadata": {},
   "source": [
    "### Algorytm backpropagation ma niejako dwie fazy:\n",
    "* #### forward:\n",
    "    * Przepuszczmy przykład uczący przez całą sieć, zapisując wartości In oraz Out dla poszczególnych neuronów. \n",
    "    Przykładowo:\n",
    "\n",
    "$$\n",
    "in_{21} = w_{21}out_{11} + w_{22}out_{12} + w_{23}out_{13} + b_{21}\n",
    "$$\n",
    "\n",
    "$$\n",
    "out_{21} = \\varphi(in_{21}) = \\tanh(in_{21})\n",
    "$$\n",
    "\n",
    "\n",
    "\n",
    "\n",
    "* #### backward\n",
    "    * W tej fazie aktualizujemy wagi, wymaga więc to od nas znalezienia pochodnych cząstkowych dla wszstkich wag oraz wyrazów wolnych neuronów w sieci.           \n",
    "    Przykład obliczeń pochodnej czastkowej wagi 1 neuronu 3 warstwy:\n",
    "    $$ \\frac{\\delta E}{\\delta w_{31}} = \\frac{\\delta E}{\\delta out_{31}} \\frac{\\delta out_{31}}{\\delta w_{31}} = \\frac{\\delta E}{\\delta out_{31}} \\frac{\\delta out_{31}}{\\delta in_{31}} \\frac{\\delta in_{31}}{\\delta w_{31}} $$"
   ]
  },
  {
   "cell_type": "markdown",
   "metadata": {},
   "source": [
    "### Obliczenia pochodnych warsty wyjśiowej sieci:\n",
    "A więc, zaczynając od wyjścia sieci neuronowej, Liczymy pochodną funkcji straty po wyjściu sieci, później pochodną wyjścia sieci względem wyjścia ostatniego neuronu, następnie pochodną wyjścia ostatniego neuronu względem jego wejścia (w tym wypadku 3 1). \n",
    "\n",
    "### *Konkluzja jest taka, że liczymy pochodne cząstkowe dla wszstkich in, out, w, b od wyjścia sieci aż do jej począstku*\n",
    "\n",
    "Warto również zauważyć, że pochodna pierwszego iloczynu w naszych obliczeniach jest równa wyjściu poprzedniego neurona zkorelowanego z daną wagą ( w naszym wypadku w31 pierwszy iloczyn łańcucha pochodnych = out21):\n",
    "$$ \\frac{\\delta in_{31}}{\\delta w_{31}} = \\frac{\\delta}{\\delta w_{31}} (w_{31} out_{21} + w_{32} out_{22} + b_{31}) = out_{21} $$\n",
    "\n",
    "Pochodna drugiego iloczynu też została przez nas niebezpośrednio zapisana w fazie backward:\n",
    "$$ \\frac{\\delta out_{31}}{\\delta in_{31}} = \\frac{\\delta}{\\delta in_{31}} \\varphi (in_{31}) $$\n",
    "$$ \\frac{\\delta out_{31}}{\\delta in_{31}} = \\frac{\\delta}{\\delta in_{31}} \\varphi (in_{31}) = 1 - tanh^{2}(in_{31}) $$\n",
    "    \n",
    "W takim razie zostaje skrajnie lewy iloczyn, któru możemy obliczyć z: \n",
    "$$ \\frac{\\delta E}{\\delta out_{31}} = \\frac{\\delta}{\\delta out_{31}} (y - f(x))^{2} = \\frac{\\delta}{\\delta out_{31}} (y - out_{31})^{2} = \\\\ \n",
    "= 2 \\cdot (y - out_{31}) \\frac{\\delta}{\\delta out_{31}} (y - out_{31}) = 2 \\cdot (y - out_{31}) \\cdot (-1) = 2 \\cdot (out_{31} - y) $$\n",
    "\n"
   ]
  },
  {
   "cell_type": "markdown",
   "metadata": {},
   "source": [
    "### Obliczenia pochodnych warstw ukrytych sieci:\n",
    "Jest to już niestety bardziej skomplikowane, lecz zów regóła łańcuchowa liczenia pochodnych nam pomoże. Korzystamy tuaj z:\n",
    "$$ \\frac{\\delta E}{\\delta w_{11}} = \\frac{\\delta E}{\\delta out_{11}} \\frac{\\delta out_{11}}{\\delta w_{11}} = \\frac{\\delta E}{\\delta out_{11}} \\frac{\\delta out_{11}}{\\delta in_{11}} \\frac{\\delta in_{11}}{\\delta w_{11}} $$\n",
    "Jak doskonale widać jesteśmy w stanie obliczyć dwa skrajnie prawe iloczyny korzystająć z zapisanych in oraz out sieci, jednakże nie jesteśmy w stanie obliczyć $$\\frac{\\delta E}{\\delta out_{11}}$$\n",
    "Możemy to obliczyć jako sumę wpływu na neurony których nasze out11 stanowi wejście, w takim wypadku koniecznym staje się obliczenie pochodnych cząstkowych po wszstkuch neuronach kolejne warstwy sieci i tak dalej aż do ostatniej warstwy i wyjścia całej sieci w naszym wypadku out31, a więc wychodzi nam coś takigo:\n",
    "$$ \\frac{\\delta E}{\\delta out_{11}} = \\sum_{n \\in N}{(\\frac{\\delta E}{\\delta in_{n}} \\frac{\\delta in_{n}}{\\delta out_{11}})} = \\sum_{n \\in N}{(\\frac{\\delta E}{\\delta out_{n}} \\frac{\\delta out_{n}}{\\delta in_{n}} \\frac{\\delta in_{n}}{\\delta out_{11}})} = \\\\\n",
    "= \\frac{\\delta E}{\\delta out_{21}} \\frac{\\delta out_{21}}{\\delta in_{21}} \\frac{\\delta in_{21}}{\\delta out_{11}} + \\frac{\\delta E}{\\delta out_{22}} \\frac{\\delta out_{22}}{\\delta in_{22}} \\frac{\\delta in_{22}}{\\delta out_{11}} $$ "
   ]
  },
  {
   "cell_type": "markdown",
   "metadata": {},
   "source": [
    "#### W takim razie już wiadomo skąd nazwa backpropagation&#128521;... Trzeba liczenie wag zacząć od końca i propagować wyniki na następne warstwy wstecz!  &#128513;"
   ]
  },
  {
   "cell_type": "markdown",
   "metadata": {},
   "source": [
    "Implementacja algorytmu wstecznej propagacji:"
   ]
  },
  {
   "cell_type": "markdown",
   "metadata": {},
   "source": [
    "faza foward:"
   ]
  },
  {
   "cell_type": "code",
   "execution_count": 17,
   "metadata": {},
   "outputs": [],
   "source": [
    "import pandas as pd\n",
    "import numpy as np\n",
    "import matplotlib.pyplot as plt\n",
    "import sympy as sym"
   ]
  },
  {
   "cell_type": "code",
   "execution_count": null,
   "metadata": {},
   "outputs": [],
   "source": [
    "layer_size = (1, 3, 2, 1) # first entry is an input layer\n",
    "activations = (np.tanh, np.tanh, lambda x: x)\n",
    "# derivatives - pochodne zmiennej x funkcji aktywacji\n",
    "derivatives = ((lambda x: 1 - (np.tanh(x) ** 2)),\n",
    "               (lambda x: 1 - (np.tanh(x) ** 2)),\n",
    "               (lambda x: 1))"
   ]
  },
  {
   "cell_type": "code",
   "execution_count": 5,
   "metadata": {},
   "outputs": [],
   "source": [
    "x = 1.0\n",
    "y = np.array([-4.0])"
   ]
  },
  {
   "cell_type": "code",
   "execution_count": 6,
   "metadata": {},
   "outputs": [],
   "source": [
    "def n_in_out(x, weights):\n",
    "    x_vector = np.array(x)\n",
    "    current_input = np.append(x_vector, 1)\n",
    "    n_ins, n_outs = [x_vector], [x_vector]\n",
    "    for layer_weigths, activation_func in zip(weights, activations):\n",
    "        dot_product = layer_weigths.dot(current_input)\n",
    "        n_ins.append(dot_product)\n",
    "        activated_vector = activation_func(dot_product)\n",
    "        n_outs.append(activated_vector)\n",
    "        current_input = np.append(activated_vector, 1)\n",
    "    return n_ins, n_outs"
   ]
  },
  {
   "cell_type": "code",
   "execution_count": 7,
   "metadata": {},
   "outputs": [
    {
     "data": {
      "text/plain": [
       "([array(1.),\n",
       "  array([1.38030917, 1.66977293, 0.33671277]),\n",
       "  array([1.71646945, 0.86496614]),\n",
       "  array([0.85712527])],\n",
       " [array(1.),\n",
       "  array([0.88102048, 0.93152166, 0.32453954]),\n",
       "  array([0.9374365 , 0.69880751]),\n",
       "  array([0.85712527])])"
      ]
     },
     "execution_count": 7,
     "metadata": {},
     "output_type": "execute_result"
    }
   ],
   "source": [
    "n_ins, n_outs = n_in_out(x, weights)\n",
    "n_ins, n_outs"
   ]
  },
  {
   "cell_type": "markdown",
   "metadata": {},
   "source": [
    "teraz faza backward:"
   ]
  },
  {
   "cell_type": "code",
   "execution_count": 9,
   "metadata": {},
   "outputs": [],
   "source": [
    "def calculate_grad(x, y, weights):\n",
    "    n_ins, n_outs = n_in_out(x, weights)\n",
    "    new_weights = weights.copy()\n",
    "    \n",
    "    # Output list\n",
    "    grad = []\n",
    "    \n",
    "    # Output layer\n",
    "    n_out = n_outs[-1]\n",
    "    n_in = n_ins[-1]\n",
    "    dE_dout = 2 * (n_out - y)\n",
    "    dout_din = np.vectorize(derivatives[-1])(n_in)\n",
    "    din_dw = np.append(n_outs[-2], 1)\n",
    "    dE_dw = np.outer(dE_dout * dout_din, din_dw)\n",
    "    grad.append(dE_dw)\n",
    "\n",
    "    # Hidden layers\n",
    "    for index, n_out in reversed(list(enumerate(n_outs[:-1]))):\n",
    "        if index == 0:\n",
    "            break\n",
    "        n_in = n_ins[index]\n",
    "        din_dout = weights[index][:, :-1] # next layer weights, without bias\n",
    "        dE_dout = sum([dE_dout[n] * dout_din[n] * din_dout[n, :]\n",
    "                       for n in range(dE_dout.shape[0])])\n",
    "        dout_din = np.vectorize(derivatives[index - 1])(n_in)\n",
    "        din_dw = np.append(n_outs[index - 1], 1) # put bias term\n",
    "        dE_dw = np.outer(dE_dout * dout_din, din_dw)\n",
    "        grad.append(dE_dw)\n",
    "    return list(reversed(grad))"
   ]
  },
  {
   "cell_type": "code",
   "execution_count": 10,
   "metadata": {},
   "outputs": [
    {
     "data": {
      "text/plain": [
       "[array([[0.05335664, 0.05335664],\n",
       "        [0.01630179, 0.01630179],\n",
       "        [0.1793172 , 0.1793172 ]]),\n",
       " array([[0.30828687, 0.32595826, 0.11356294, 0.34992021],\n",
       "        [0.13860846, 0.14655367, 0.05105889, 0.15732717]]),\n",
       " array([[9.106493  , 6.78839127, 9.71425054]])]"
      ]
     },
     "execution_count": 10,
     "metadata": {},
     "output_type": "execute_result"
    }
   ],
   "source": [
    "calculate_grad(x, y, weights)"
   ]
  },
  {
   "cell_type": "markdown",
   "metadata": {},
   "source": [
    "powyżej zamplementowano cały algorytm, teraz czas na testy:"
   ]
  },
  {
   "cell_type": "code",
   "execution_count": 13,
   "metadata": {},
   "outputs": [
    {
     "data": {
      "text/plain": [
       "array([0.50582533, 0.87448384, 0.67835808, 0.99141485, 0.22261684,\n",
       "       0.11409593, 0.53544872, 0.29510281, 0.16268881, 0.91703455,\n",
       "       0.32444944, 0.12703629, 0.91210753, 0.16476752, 0.29717426,\n",
       "       0.03165236, 0.55642436])"
      ]
     },
     "execution_count": 13,
     "metadata": {},
     "output_type": "execute_result"
    }
   ],
   "source": [
    "np.random.seed(12421)\n",
    "w_init = np.random.random(size=17)\n",
    "w_init"
   ]
  },
  {
   "cell_type": "code",
   "execution_count": 15,
   "metadata": {},
   "outputs": [],
   "source": [
    "x_values = np.linspace(-2, 5, 25)\n",
    "\n",
    "xy_df = pd.DataFrame({\n",
    "    \"x\": x_values,\n",
    "    \"y\": -2 * x_values ** 2 + 5 * x_values + 1\n",
    "})"
   ]
  },
  {
   "cell_type": "code",
   "execution_count": 18,
   "metadata": {},
   "outputs": [],
   "source": [
    "x = sym.Symbol(\"x\")\n",
    "w11, w12, w13, b11, b12, b13 = sym.symbols(\"w11 w12 w13 b11 b12 b13\")\n",
    "w21, w22, w23, w24, w25, w26, b21, b22 = sym.symbols(\"w21 w22 w23 w24 w25 w26 b21 b22\")\n",
    "w31, w32, b31 = sym.symbols(\"w31 w32 b31\")"
   ]
  },
  {
   "cell_type": "code",
   "execution_count": 19,
   "metadata": {},
   "outputs": [
    {
     "data": {
      "text/latex": [
       "$\\displaystyle b_{31} + w_{31} \\tanh{\\left(b_{21} + w_{21} \\tanh{\\left(b_{11} + w_{11} x \\right)} + w_{22} \\tanh{\\left(b_{12} + w_{12} x \\right)} + w_{23} \\tanh{\\left(b_{13} + w_{13} x \\right)} \\right)} + w_{32} \\tanh{\\left(b_{22} + w_{24} \\tanh{\\left(b_{11} + w_{11} x \\right)} + w_{25} \\tanh{\\left(b_{12} + w_{12} x \\right)} + w_{26} \\tanh{\\left(b_{13} + w_{13} x \\right)} \\right)}$"
      ],
      "text/plain": [
       "b31 + w31*tanh(b21 + w21*tanh(b11 + w11*x) + w22*tanh(b12 + w12*x) + w23*tanh(b13 + w13*x)) + w32*tanh(b22 + w24*tanh(b11 + w11*x) + w25*tanh(b12 + w12*x) + w26*tanh(b13 + w13*x))"
      ]
     },
     "execution_count": 19,
     "metadata": {},
     "output_type": "execute_result"
    }
   ],
   "source": [
    "n11_in = w11 * x + b11\n",
    "n11 = sym.tanh(n11_in)\n",
    "n12_in = w12 * x + b12\n",
    "n12 = sym.tanh(n12_in)\n",
    "n13_in = w13 * x + b13\n",
    "n13 = sym.tanh(n13_in)\n",
    "\n",
    "n21_in = w21 * n11 + w22 * n12 + w23 * n13 + b21\n",
    "n21 = sym.tanh(n21_in)\n",
    "n22_in = w24 * n11 + w25 * n12 + w26 * n13 + b22\n",
    "n22 = sym.tanh(n22_in)\n",
    "\n",
    "n31_in = w31 * n21 + w32 * n22 + b31\n",
    "n31 = n31_in\n",
    "n31"
   ]
  },
  {
   "cell_type": "code",
   "execution_count": null,
   "metadata": {},
   "outputs": [],
   "source": []
  },
  {
   "cell_type": "code",
   "execution_count": 20,
   "metadata": {},
   "outputs": [
    {
     "data": {
      "text/plain": [
       "[w11,\n",
       " w12,\n",
       " w13,\n",
       " b11,\n",
       " b12,\n",
       " b13,\n",
       " w21,\n",
       " w22,\n",
       " w23,\n",
       " w24,\n",
       " w25,\n",
       " w26,\n",
       " b21,\n",
       " b22,\n",
       " w31,\n",
       " w32,\n",
       " b31]"
      ]
     },
     "execution_count": 20,
     "metadata": {},
     "output_type": "execute_result"
    }
   ],
   "source": [
    "weights = [w11, w12, w13, b11, b12, b13,\n",
    "           w21, w22, w23, w24, w25, w26, b21, b22,\n",
    "           w31, w32, b31]\n",
    "weights"
   ]
  },
  {
   "cell_type": "code",
   "execution_count": 24,
   "metadata": {},
   "outputs": [],
   "source": [
    "curr_f = n31.subs(dict(zip(weights, w_init)))\n",
    "pred_y = np.array([curr_f.evalf(subs={x: x_val}) \n",
    "                   for x_val in xy_df[\"x\"]])"
   ]
  },
  {
   "cell_type": "code",
   "execution_count": 25,
   "metadata": {},
   "outputs": [
    {
     "data": {
      "text/plain": [
       "<matplotlib.collections.PathCollection at 0x23b9a2598a0>"
      ]
     },
     "execution_count": 25,
     "metadata": {},
     "output_type": "execute_result"
    },
    {
     "data": {
      "image/png": "[encoded data removed]",
      "text/plain": [
       "<Figure size 1050x750 with 1 Axes>"
      ]
     },
     "metadata": {},
     "output_type": "display_data"
    }
   ],
   "source": [
    "ax = xy_df.plot.scatter(x=\"x\", y=\"y\", figsize=(10.5, 7.5))\n",
    "ax.scatter(x=xy_df[\"x\"], y=pred_y, c=\"r\")"
   ]
  },
  {
   "cell_type": "code",
   "execution_count": 26,
   "metadata": {},
   "outputs": [],
   "source": [
    "def predict(x, weights):\n",
    "    _, n_outs = n_in_out(x, weights)\n",
    "    return n_outs[-1]"
   ]
  },
  {
   "cell_type": "code",
   "execution_count": 28,
   "metadata": {},
   "outputs": [
    {
     "data": {
      "text/plain": [
       "[array([[0.50582533, 0.87448384],\n",
       "        [0.67835808, 0.99141485],\n",
       "        [0.22261684, 0.11409593]]),\n",
       " array([[0.53544872, 0.29510281, 0.16268881, 0.91703455],\n",
       "        [0.32444944, 0.12703629, 0.91210753, 0.16476752]]),\n",
       " array([[0.29717426, 0.03165236, 0.55642436]])]"
      ]
     },
     "execution_count": 28,
     "metadata": {},
     "output_type": "execute_result"
    }
   ],
   "source": [
    "np.random.seed(12421)\n",
    "\n",
    "weights = [\n",
    "    np.random.random(size=(out_size, in_size + 1)) # +1 adds weight for bias\n",
    "    for in_size, out_size in zip(layer_size[:-1], layer_size[1:])\n",
    "]\n",
    "weights"
   ]
  },
  {
   "cell_type": "code",
   "execution_count": 29,
   "metadata": {},
   "outputs": [
    {
     "data": {
      "text/plain": [
       "array([0.85712527])"
      ]
     },
     "execution_count": 29,
     "metadata": {},
     "output_type": "execute_result"
    }
   ],
   "source": [
    "predict(1.0, weights)"
   ]
  },
  {
   "cell_type": "code",
   "execution_count": 30,
   "metadata": {},
   "outputs": [
    {
     "data": {
      "text/plain": [
       "<matplotlib.collections.PathCollection at 0x23b9c696c80>"
      ]
     },
     "execution_count": 30,
     "metadata": {},
     "output_type": "execute_result"
    },
    {
     "data": {
      "image/png": "[encoded data removed]",
      "text/plain": [
       "<Figure size 1050x750 with 1 Axes>"
      ]
     },
     "metadata": {},
     "output_type": "display_data"
    }
   ],
   "source": [
    "pred_y = np.array([predict(x_val, weights)[0]\n",
    "                   for x_val in xy_df[\"x\"]])\n",
    "ax = xy_df.plot.scatter(x=\"x\", y=\"y\", figsize=(10.5, 7.5))\n",
    "ax.scatter(x=xy_df[\"x\"], y=pred_y, c=\"r\")"
   ]
  },
  {
   "cell_type": "code",
   "execution_count": 31,
   "metadata": {},
   "outputs": [],
   "source": [
    "max_iter = 10000\n",
    "gamma = 0.0001"
   ]
  },
  {
   "cell_type": "code",
   "execution_count": 32,
   "metadata": {},
   "outputs": [],
   "source": [
    "w_optimal = weights.copy()\n",
    "for i in range(max_iter):\n",
    "    grad = [np.zeros_like(w) for w in w_optimal]\n",
    "    for x_val, y_true in zip(xy_df[\"x\"], xy_df[\"y\"]):\n",
    "        current_grad = calculate_grad(x_val, y_true, w_optimal)\n",
    "        grad = [g + cg for g, cg in zip(grad, current_grad)]\n",
    "    \n",
    "    for i, _ in enumerate(w_optimal):\n",
    "        w_optimal[i] = w_optimal[i] - gamma * grad[i]"
   ]
  },
  {
   "cell_type": "code",
   "execution_count": 33,
   "metadata": {},
   "outputs": [
    {
     "data": {
      "text/plain": [
       "<matplotlib.collections.PathCollection at 0x23b9c3e3b20>"
      ]
     },
     "execution_count": 33,
     "metadata": {},
     "output_type": "execute_result"
    },
    {
     "data": {
      "image/png": "[encoded data removed]",
      "text/plain": [
       "<Figure size 1050x750 with 1 Axes>"
      ]
     },
     "metadata": {},
     "output_type": "display_data"
    }
   ],
   "source": [
    "pred_y = np.array([predict(x_val, w_optimal)[0]\n",
    "                   for x_val in xy_df[\"x\"]])\n",
    "ax = xy_df.plot.scatter(x=\"x\", y=\"y\", figsize=(10.5, 7.5))\n",
    "ax.scatter(x=xy_df[\"x\"], y=pred_y, c=\"r\")"
   ]
  },
  {
   "cell_type": "code",
   "execution_count": 34,
   "metadata": {},
   "outputs": [
    {
     "data": {
      "text/plain": [
       "[<matplotlib.lines.Line2D at 0x23b9c33bcd0>]"
      ]
     },
     "execution_count": 34,
     "metadata": {},
     "output_type": "execute_result"
    },
    {
     "data": {
      "image/png": "[encoded data removed]",
      "text/plain": [
       "<Figure size 1050x750 with 1 Axes>"
      ]
     },
     "metadata": {},
     "output_type": "display_data"
    }
   ],
   "source": [
    "pred_x = np.linspace(xy_df[\"x\"].min(),\n",
    "                     xy_df[\"x\"].max(),\n",
    "                     1000)\n",
    "pred_y = np.array([predict(x_val, w_optimal)[0]\n",
    "                   for x_val in pred_x])\n",
    "ax = xy_df.plot.scatter(x=\"x\", y=\"y\", figsize=(10.5, 7.5))\n",
    "ax.plot(pred_x, pred_y, c=\"r\")"
   ]
  }
 ],
 "metadata": {
  "kernelspec": {
   "display_name": "Python 3",
   "language": "python",
   "name": "python3"
  },
  "language_info": {
   "codemirror_mode": {
    "name": "ipython",
    "version": 3
   },
   "file_extension": ".py",
   "mimetype": "text/x-python",
   "name": "python",
   "nbconvert_exporter": "python",
   "pygments_lexer": "ipython3",
   "version": "3.10.8"
  }
 },
 "nbformat": 4,
 "nbformat_minor": 2
}
